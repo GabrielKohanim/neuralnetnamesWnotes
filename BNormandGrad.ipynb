{
  "nbformat": 4,
  "nbformat_minor": 0,
  "metadata": {
    "colab": {
      "provenance": []
    },
    "kernelspec": {
      "name": "python3",
      "display_name": "Python 3"
    },
    "language_info": {
      "name": "python"
    }
  },
  "cells": [
    {
      "cell_type": "code",
      "execution_count": 1,
      "metadata": {
        "id": "lE1UTXOGi54A"
      },
      "outputs": [],
      "source": [
        "import torch\n",
        "import torch.nn.functional as F\n",
        "import matplotlib.pyplot as plt\n",
        "%matplotlib inline"
      ]
    },
    {
      "cell_type": "code",
      "source": [
        "!wget https://raw.githubusercontent.com/karpathy/makemore/refs/heads/master/names.txt\n",
        "words = open('names.txt', 'r').read().splitlines()\n",
        "words[:8]"
      ],
      "metadata": {
        "colab": {
          "base_uri": "https://localhost:8080/"
        },
        "id": "ok2p23LhhD2R",
        "outputId": "ed93ca7d-bb34-458e-cb30-a641891c00a3"
      },
      "execution_count": 2,
      "outputs": [
        {
          "output_type": "stream",
          "name": "stdout",
          "text": [
            "--2025-02-05 18:38:24--  https://raw.githubusercontent.com/karpathy/makemore/refs/heads/master/names.txt\n",
            "Resolving raw.githubusercontent.com (raw.githubusercontent.com)... 185.199.110.133, 185.199.109.133, 185.199.108.133, ...\n",
            "Connecting to raw.githubusercontent.com (raw.githubusercontent.com)|185.199.110.133|:443... connected.\n",
            "HTTP request sent, awaiting response... 200 OK\n",
            "Length: 228145 (223K) [text/plain]\n",
            "Saving to: ‘names.txt’\n",
            "\n",
            "names.txt           100%[===================>] 222.80K  --.-KB/s    in 0.005s  \n",
            "\n",
            "2025-02-05 18:38:25 (46.2 MB/s) - ‘names.txt’ saved [228145/228145]\n",
            "\n"
          ]
        },
        {
          "output_type": "execute_result",
          "data": {
            "text/plain": [
              "['emma', 'olivia', 'ava', 'isabella', 'sophia', 'charlotte', 'mia', 'amelia']"
            ]
          },
          "metadata": {},
          "execution_count": 2
        }
      ]
    },
    {
      "cell_type": "code",
      "source": [
        "len(words)"
      ],
      "metadata": {
        "colab": {
          "base_uri": "https://localhost:8080/"
        },
        "id": "cILtIYIXjREF",
        "outputId": "298c4684-70e6-4b3e-e308-226d28400bc0"
      },
      "execution_count": 3,
      "outputs": [
        {
          "output_type": "execute_result",
          "data": {
            "text/plain": [
              "32033"
            ]
          },
          "metadata": {},
          "execution_count": 3
        }
      ]
    },
    {
      "cell_type": "code",
      "source": [
        "#build the vocab of chars and mapping to and from ints\n",
        "chars = sorted(list(set(''.join(words)))) # sorted list of all unique chars in dataset\n",
        "stoi = {s:i+1 for i,s in enumerate(chars)} # string to int mapping\n",
        "stoi['.'] = 0\n",
        "itos = {i:s for s,i in stoi.items()} # int to string mapping\n",
        "print(itos)\n",
        "vocab_size = len(itos)\n",
        "print(vocab_size)"
      ],
      "metadata": {
        "id": "MGWQXEKjjGFG",
        "colab": {
          "base_uri": "https://localhost:8080/"
        },
        "outputId": "a80f6f94-5be6-4e41-df3d-d89c51fb7337"
      },
      "execution_count": 3,
      "outputs": [
        {
          "output_type": "stream",
          "name": "stdout",
          "text": [
            "{1: 'a', 2: 'b', 3: 'c', 4: 'd', 5: 'e', 6: 'f', 7: 'g', 8: 'h', 9: 'i', 10: 'j', 11: 'k', 12: 'l', 13: 'm', 14: 'n', 15: 'o', 16: 'p', 17: 'q', 18: 'r', 19: 's', 20: 't', 21: 'u', 22: 'v', 23: 'w', 24: 'x', 25: 'y', 26: 'z', 0: '.'}\n",
            "27\n"
          ]
        }
      ]
    },
    {
      "cell_type": "code",
      "source": [
        "#building the dataset\n",
        "block_size = 3 # context length -> how many previous chars we are using to predict the next\n",
        "\n",
        "def build_dataset(words):\n",
        "  X, Y = [], []\n",
        "  for w in words:\n",
        "      #print(w)\n",
        "      context = [0] * block_size\n",
        "      for ch in w + '.':\n",
        "          ix = stoi[ch]\n",
        "          X.append(context)\n",
        "          Y.append(ix)\n",
        "          #print(''.join(itos[i] for i in context), '--->', itos[ix])\n",
        "          context = context[1:] + [ix] # crop and append\n",
        "  X = torch.tensor(X)\n",
        "  Y = torch.tensor(Y)\n",
        "  print(X.shape, Y.shape)\n",
        "  return X, Y\n",
        "\n",
        "import random\n",
        "random.seed(42)\n",
        "random.shuffle(words)\n",
        "n1 = int(0.8*len(words))\n",
        "n2 = int(0.9*len(words))\n",
        "\n",
        "Xtr, Ytr = build_dataset(words[:n1])\n",
        "Xdev, Ydev = build_dataset(words[n1:n2]) # dev == validation\n",
        "Xte, Yte = build_dataset(words[n2:])\n"
      ],
      "metadata": {
        "colab": {
          "base_uri": "https://localhost:8080/"
        },
        "id": "DM3RT98GjUG2",
        "outputId": "70b7e0f9-43eb-42ae-9855-35b109944349"
      },
      "execution_count": 4,
      "outputs": [
        {
          "output_type": "stream",
          "name": "stdout",
          "text": [
            "torch.Size([182625, 3]) torch.Size([182625])\n",
            "torch.Size([22655, 3]) torch.Size([22655])\n",
            "torch.Size([22866, 3]) torch.Size([22866])\n"
          ]
        }
      ]
    },
    {
      "cell_type": "code",
      "source": [
        "#mlp\n",
        "n_embd = 10 # the dimensionality of the character embedding vectors\n",
        "n_hidden = 100 # the number of neurons in the hidden layer of the MLP\n",
        "\n",
        "g = torch.Generator().manual_seed(2147483647) # for repeducibility\n",
        "C = torch.randn((vocab_size, n_embd),             generator=g) # 27 for amount of chars(fan_in), 10 for emedding demension of each char(fan_out)\n",
        "W1 = torch.randn((n_embd * block_size, n_hidden), generator=g) * (5/3)/((n_embd * block_size)**0.5)\n",
        "b1 = torch.randn(n_hidden,                        generator=g) * 0.01\n",
        "W2 = torch.randn((n_hidden, vocab_size),          generator=g) * 0.01 # numbers are intiailly too high giving it a very high intitial loss but how do we get these scalars?\n",
        "b2 = torch.randn(vocab_size,                       generator=g) * 0.0\n",
        "\n",
        "# batch normilization gain and bias, they also get trained with the backprogpagation so they can shift around\n",
        "bngain = torch.ones((1, n_hidden))\n",
        "bnbias = torch.zeros((1, n_hidden))\n",
        "\n",
        "bnmean_running = torch.zeros((1, n_hidden))\n",
        "bnstd_running = torch.ones((1, n_hidden))\n",
        "\n",
        "parameters = [C, W1, b1, W2, b2, bngain, bnbias]\n",
        "print(sum(p.nelement() for p in parameters)) # number of parameters in total\n",
        "\n",
        "for p in parameters:\n",
        "  p.requires_grad = True"
      ],
      "metadata": {
        "colab": {
          "base_uri": "https://localhost:8080/"
        },
        "id": "vzxDizwFjk51",
        "outputId": "7822d1f4-cb70-4c54-b80e-f2d0665ae370"
      },
      "execution_count": 19,
      "outputs": [
        {
          "output_type": "stream",
          "name": "stdout",
          "text": [
            "6297\n"
          ]
        }
      ]
    },
    {
      "cell_type": "markdown",
      "source": [
        "Maintaining Gaussian Distribution\n",
        "\n",
        "- Unscaled Weights: If the weights in w were left unscaled (with a standard deviation of 1), the repeated summations in a deep neural network could lead to the activations (outputs of each layer) having very large or very small values. This can cause problems like vanishing or exploding gradients, making training difficult.\n",
        "- Scaled Weights: By scaling the weights with 1/sqrt(n) (where n is the number of inputs to a neuron), the variance of the output y is kept in check. This helps ensure the activations remain roughly Gaussian, which leads to more stable training."
      ],
      "metadata": {
        "id": "hYdnrV-nw4Xg"
      }
    },
    {
      "cell_type": "code",
      "source": [
        "# we want to scale the Ws but keep them guassian like x\n",
        "x = torch.randn(1000, 10)\n",
        "w = torch.randn(10, 200) / 10**.5 # this scalar keeps the answer guassion\n",
        "y = x @ w #activations\n",
        "print(x.mean(), x.std())\n",
        "print(y.mean(), y.std())\n",
        "plt.figure(figsize=(20, 5))\n",
        "plt.subplot(121)\n",
        "plt.hist(x.view(-1).tolist(), 50, density=True)\n",
        "plt.subplot(122)\n",
        "plt.hist(y.view(-1).tolist(), 50, density=True)\n",
        "#this stuff is prolly useless to know cuz of batch normilization"
      ],
      "metadata": {
        "colab": {
          "base_uri": "https://localhost:8080/",
          "height": 885
        },
        "id": "V_d_YsseucSB",
        "outputId": "88f6e0f9-0a74-4b73-ec59-808fb73596f9"
      },
      "execution_count": 20,
      "outputs": [
        {
          "output_type": "stream",
          "name": "stdout",
          "text": [
            "tensor(-0.0137) tensor(1.0039)\n",
            "tensor(-0.0018) tensor(0.9923)\n"
          ]
        },
        {
          "output_type": "execute_result",
          "data": {
            "text/plain": [
              "(array([2.25857750e-05, 4.51715501e-05, 6.77573251e-05, 9.03431001e-05,\n",
              "        2.48443525e-04, 2.25857750e-04, 2.71029300e-04, 7.90502126e-04,\n",
              "        1.73910468e-03, 2.64253568e-03, 4.17836838e-03, 6.12074503e-03,\n",
              "        9.98291256e-03, 1.49743688e-02, 2.35343776e-02, 3.81699598e-02,\n",
              "        5.78421699e-02, 8.25961793e-02, 1.18349461e-01, 1.62278794e-01,\n",
              "        2.20188721e-01, 2.76653158e-01, 3.40119186e-01, 3.93737816e-01,\n",
              "        4.26713048e-01, 4.39586939e-01, 4.11535407e-01, 3.58278149e-01,\n",
              "        3.03010758e-01, 2.33920872e-01, 1.78246937e-01, 1.32826943e-01,\n",
              "        9.54700711e-02, 6.40080864e-02, 4.27097006e-02, 2.72384447e-02,\n",
              "        1.85880928e-02, 1.20382181e-02, 7.00159026e-03, 3.92992486e-03,\n",
              "        2.50702103e-03, 1.58100425e-03, 9.71188326e-04, 7.22744801e-04,\n",
              "        6.54987476e-04, 3.16200850e-04, 2.25857750e-04, 6.77573251e-05,\n",
              "        9.03431001e-05, 4.51715501e-05]),\n",
              " array([-5.57278776, -5.35140948, -5.1300312 , -4.90865293, -4.68727465,\n",
              "        -4.46589637, -4.24451809, -4.02313981, -3.80176153, -3.58038325,\n",
              "        -3.35900497, -3.1376267 , -2.91624842, -2.69487014, -2.47349186,\n",
              "        -2.25211358, -2.0307353 , -1.80935702, -1.58797874, -1.36660047,\n",
              "        -1.14522219, -0.92384391, -0.70246563, -0.48108735, -0.25970907,\n",
              "        -0.03833079,  0.18304749,  0.40442576,  0.62580404,  0.84718232,\n",
              "         1.0685606 ,  1.28993888,  1.51131716,  1.73269544,  1.95407372,\n",
              "         2.17545199,  2.39683027,  2.61820855,  2.83958683,  3.06096511,\n",
              "         3.28234339,  3.50372167,  3.72509995,  3.94647822,  4.1678565 ,\n",
              "         4.38923478,  4.61061306,  4.83199134,  5.05336962,  5.2747479 ,\n",
              "         5.49612617]),\n",
              " <BarContainer object of 50 artists>)"
            ]
          },
          "metadata": {},
          "execution_count": 20
        },
        {
          "output_type": "display_data",
          "data": {
            "text/plain": [
              "<Figure size 2000x500 with 2 Axes>"
            ],
            "image/png": "[encoded data removed]"
          },
          "metadata": {}
        }
      ]
    },
    {
      "cell_type": "code",
      "source": [
        "#optimization\n",
        "max_steps = 200000\n",
        "batch_size = 32\n",
        "lossi = []\n",
        "\n",
        "\n",
        "for i in range(max_steps):\n",
        "  #minbatch construct\n",
        "  ix = torch.randint(0, Xtr.shape[0], (32,)) # using minibatches help us train faster\n",
        "  Xb, Yb = Xtr[ix], Ytr[ix] # batch X Y\n",
        "\n",
        "  #forward pass/ weight layer\n",
        "  emb = C[Xb] # (32, 3, 2)\n",
        "  embcat = emb.view(emb.shape[0], -1) # concating emb\n",
        "  hpreact = embcat @ W1 # + b1 #hidden later pre activation, u can skip all the fancy weight mulitplication stuff if you just make this guassian\n",
        "\n",
        "  #batchnorm layer / normilization layer\n",
        "  bnmeani = hpreact.mean(0, keepdim=True) # batch normilization mean\n",
        "  bnstdi = hpreact.std(0, keepdim=True) # batch normilization std\n",
        "  hpreact = bngain * (hpreact - bnmeani) / bnstdi + bnbias # batch normilization\n",
        "\n",
        "  with torch.no_grad(): #this just means the tensors will be updated outside of the gradient based optimization\n",
        "    bnmean_running = 0.999 * bnmean_running + 0.001 * bnmeani\n",
        "    bnstd_running = 0.999 * bnstd_running + 0.001 * bnstdi\n",
        "\n",
        "  #non linearity\n",
        "  h = torch.tanh(hpreact) # hidden layer\n",
        "  logits = h @ W2 + b2  #output layer\n",
        "  loss = F.cross_entropy(logits, Yb) # loss function\n",
        "\n",
        "  # backward pass\n",
        "  # set the gradients to zero\n",
        "  for p in parameters:\n",
        "    p.grad = None\n",
        "  loss.backward() ## populate those gradients\n",
        "\n",
        "  #update\n",
        "  lr = .1 if max_steps < 100000 else .01\n",
        "  for p in parameters:\n",
        "    if p.grad is not None: # Check if gradient is calculated before updating\n",
        "      p.data += -lr * p.grad #learning rate\n",
        "\n",
        "  #track the loss\n",
        "  if i % 10000 == 0:\n",
        "    print(f'{i:7d}/{max_steps:7d}: {loss.item():.4f}')\n",
        "  lossi.append(loss.log10().item())\n",
        "\n",
        "  #break # for debugging"
      ],
      "metadata": {
        "colab": {
          "base_uri": "https://localhost:8080/"
        },
        "collapsed": true,
        "id": "_-hTaSE4kb_s",
        "outputId": "e06f7640-6856-4556-eb9c-b40348fe6916"
      },
      "execution_count": 29,
      "outputs": [
        {
          "output_type": "stream",
          "name": "stdout",
          "text": [
            "      0/ 200000: 2.1663\n",
            "  10000/ 200000: 2.3773\n",
            "  20000/ 200000: 2.3488\n",
            "  30000/ 200000: 2.2330\n",
            "  40000/ 200000: 2.2394\n",
            "  50000/ 200000: 2.4625\n",
            "  60000/ 200000: 2.3741\n",
            "  70000/ 200000: 2.0293\n",
            "  80000/ 200000: 1.9553\n",
            "  90000/ 200000: 2.2501\n",
            " 100000/ 200000: 2.2687\n",
            " 110000/ 200000: 2.1205\n",
            " 120000/ 200000: 2.0686\n",
            " 130000/ 200000: 2.0037\n",
            " 140000/ 200000: 2.1586\n",
            " 150000/ 200000: 1.9256\n",
            " 160000/ 200000: 2.1687\n",
            " 170000/ 200000: 2.3713\n",
            " 180000/ 200000: 2.3700\n",
            " 190000/ 200000: 1.9482\n"
          ]
        }
      ]
    },
    {
      "cell_type": "markdown",
      "source": [
        "**Batch normalization (BatchNorm)** is a technique used to normalize the activations within a neural network. Here's a simplified explanation of what it does:\n",
        "\n",
        "- Calculates Mean and Standard Deviation: For each mini-batch of data, BatchNorm calculates the mean and standard deviation of the activations for each neuron.\n",
        "- Centers and Scales: It then centers the activations by subtracting the mean and scales them by dividing by the standard deviation. This ensures that the activations have a mean of 0 and a standard deviation of 1.\n",
        "\n",
        "- Learnable Parameters: BatchNorm also introduces two learnable parameters, often called gamma and beta(bngain and bnbias), which allow the network to further shift and scale the normalized activations.\n",
        "Redundancy of Biases\n",
        "\n",
        "Now, consider the role of a bias in a typical neural network layer:\n",
        "\n",
        "- Shifting Activation: A bias term is added to the weighted sum of inputs to shift the activation function. This allows the neuron to activate even when the weighted sum is zero.\n",
        "- However, when using BatchNorm, the centering step already shifts the activations to have a mean of 0. This essentially performs a similar function to a bias term.\n",
        "\n",
        "Why the redundancy?\n",
        "\n",
        "- BatchNorm's centering: Since BatchNorm centers the activations by subtracting the mean, adding a bias before BatchNorm would simply be canceled out during the centering process.\n",
        "- **Learnable** Parameters: BatchNorm's learnable parameters (gamma and beta) provide the flexibility to further shift and scale the activations, effectively incorporating the functionality of a bias."
      ],
      "metadata": {
        "id": "R6kgO6lat2dq"
      }
    },
    {
      "cell_type": "code",
      "source": [
        "plt.figure(figsize=(20,10)) # white spots are the parts of the nueron that get destroyed bc of the tanh(which is an activation function), if whole coloumn was white the nueron would be completely dead(it cant learn and all its gradients are zero)\n",
        "plt.imshow(h.abs() > .99, cmap='gray', interpolation='nearest')"
      ],
      "metadata": {
        "colab": {
          "base_uri": "https://localhost:8080/",
          "height": 542
        },
        "id": "LtTiM4u_qwdz",
        "outputId": "7c135378-46d9-4e37-c4d7-946dedc97530"
      },
      "execution_count": 30,
      "outputs": [
        {
          "output_type": "execute_result",
          "data": {
            "text/plain": [
              "<matplotlib.image.AxesImage at 0x7f448400cd10>"
            ]
          },
          "metadata": {},
          "execution_count": 30
        },
        {
          "output_type": "display_data",
          "data": {
            "text/plain": [
              "<Figure size 2000x1000 with 1 Axes>"
            ],
            "image/png": "[encoded data removed]"
          },
          "metadata": {}
        }
      ]
    },
    {
      "cell_type": "code",
      "source": [
        "plt.hist(h.view(-1).tolist(), 50); # it is bad when it is saturated at -1 or 1 cuz it messes up the tanh(the 1 or neg 1 kills the gradient)"
      ],
      "metadata": {
        "colab": {
          "base_uri": "https://localhost:8080/",
          "height": 430
        },
        "id": "rMPYKQXon2NH",
        "outputId": "474b25ab-a813-4136-efb7-4767c197c9a8"
      },
      "execution_count": 31,
      "outputs": [
        {
          "output_type": "display_data",
          "data": {
            "text/plain": [
              "<Figure size 640x480 with 1 Axes>"
            ],
            "image/png": "[encoded data removed]"
          },
          "metadata": {}
        }
      ]
    },
    {
      "cell_type": "code",
      "source": [
        "plt.hist(hpreact.view(-1).tolist(), 50);"
      ],
      "metadata": {
        "colab": {
          "base_uri": "https://localhost:8080/",
          "height": 430
        },
        "id": "-zdtbxEsp32i",
        "outputId": "49e01edf-e6eb-4016-957e-37bce61cd2fd"
      },
      "execution_count": 32,
      "outputs": [
        {
          "output_type": "display_data",
          "data": {
            "text/plain": [
              "<Figure size 640x480 with 1 Axes>"
            ],
            "image/png": "[encoded data removed]"
          },
          "metadata": {}
        }
      ]
    },
    {
      "cell_type": "code",
      "source": [
        "plt.plot(lossi) # works after full optimization"
      ],
      "metadata": {
        "colab": {
          "base_uri": "https://localhost:8080/",
          "height": 447
        },
        "id": "M_UA1D98lxNV",
        "outputId": "74018600-3f0a-45e2-b8e3-61e6354a953f"
      },
      "execution_count": 33,
      "outputs": [
        {
          "output_type": "execute_result",
          "data": {
            "text/plain": [
              "[<matplotlib.lines.Line2D at 0x7f44841f9990>]"
            ]
          },
          "metadata": {},
          "execution_count": 33
        },
        {
          "output_type": "display_data",
          "data": {
            "text/plain": [
              "<Figure size 640x480 with 1 Axes>"
            ],
            "image/png": "[encoded data removed]"
          },
          "metadata": {}
        }
      ]
    },
    {
      "cell_type": "code",
      "source": [
        "# calibraete the batch norm at the end of training\n",
        "\n",
        "with torch.no_grad():\n",
        "  # pass the training set through\n",
        "  emb = C[Xtr]\n",
        "  embcat = emb.view(emb.shape[0], -1)\n",
        "  hpreact = embcat @ W1 + b1\n",
        "  # measure the mean/standard div iver the entire training set\n",
        "  bnmean = hpreact.mean(0, keepdim=True)\n",
        "  bnstd = hpreact.std(0, keepdim=True)\n",
        "  # normalize the values\n",
        ""
      ],
      "metadata": {
        "id": "FVUPvPNepLcR"
      },
      "execution_count": 34,
      "outputs": []
    },
    {
      "cell_type": "code",
      "source": [
        "@torch.no_grad() # decorator that disables gradient tracking\n",
        "def split_loss(split):\n",
        "  x, y = {\n",
        "    'train': (Xtr, Ytr),\n",
        "    'val': (Xdev, Ydev),\n",
        "    'test': (Xte, Yte),\n",
        "  }[split]\n",
        "  emb = C[x]\n",
        "  embcat = emb.view(emb.shape[0], -1)\n",
        "  hpreact = embcat @ W1 + b1\n",
        "  hpreact = bngain * (hpreact - bnmean_running) / bnstd_running + bnbias # batch normilization layer\n",
        "  h = torch.tanh(hpreact)\n",
        "  logits = h @ W2 + b2\n",
        "  loss = F.cross_entropy(logits, y)\n",
        "  print(split, loss.item())\n",
        "\n",
        "split_loss('train')\n",
        "split_loss('val')\n"
      ],
      "metadata": {
        "colab": {
          "base_uri": "https://localhost:8080/"
        },
        "id": "GCgDqbtBl0M5",
        "outputId": "3d46703e-c471-45bb-cdcb-278d732625de"
      },
      "execution_count": 35,
      "outputs": [
        {
          "output_type": "stream",
          "name": "stdout",
          "text": [
            "train 2.1643011569976807\n",
            "val 2.180652618408203\n"
          ]
        }
      ]
    },
    {
      "cell_type": "markdown",
      "source": [
        "**TakeAways**\n",
        "- If you have too confidenent mispredictions by the model, bc of a messed up activations at lasst layers during training you end up with a hocky stick loss. But if you fix this you get a better loss at the end bc you can skip over the time wasted with confident mispreditions\n",
        "- You also want to control the activations b/c if they are too saturated around 1 or 0 the tanh/nonlinear layer messes them up, So you want roughly guassian activations through the nueral net\n",
        "- We can normilize batches at a time to maintain a guassian distriubution throughout the activations however this works less and less with bigger/deeper neural nets.\n",
        "- Normilization layers are like batch norm can be sprinkled thorughout the neural net to get more guassian activations, batch norm does this by getting the mean and the standard dev of the activations and using them to center your data, it also uses trained bn weights and biases to shift the normilization as needed."
      ],
      "metadata": {
        "id": "v51DbEu8wFDl"
      }
    },
    {
      "cell_type": "code",
      "source": [
        "#sampling from the model\n",
        "block_size = 3\n",
        "g = torch.Generator().manual_seed(2147483647 + 10)\n",
        "\n",
        "for _ in range(20):\n",
        "  out = []\n",
        "  context = [0] * block_size # initialize with all\n",
        "  while True:\n",
        "    emb = C[torch.tensor([context])]# (1, block_size, d)\n",
        "    h = torch.tanh(emb.view(1,-1) @ W1 + b1)\n",
        "    logits = h @ W2 + b2\n",
        "    probs = F.softmax(logits, dim=1)\n",
        "    ix = torch.multinomial(probs, num_samples=1, generator=g).item() # samples from the probabilitys to get the nxt index/char\n",
        "    context = context[1:] + [ix]\n",
        "    out.append(ix)\n",
        "    if ix == 0:\n",
        "      break\n",
        "\n",
        "  print(''.join(itos[i] for i in out))"
      ],
      "metadata": {
        "colab": {
          "base_uri": "https://localhost:8080/"
        },
        "id": "UaC25KDZmQNF",
        "outputId": "c1faa6ca-c902-4cb8-8ddb-fdfbd24e39cd"
      },
      "execution_count": 36,
      "outputs": [
        {
          "output_type": "stream",
          "name": "stdout",
          "text": [
            "mridgymyannigengh.\n",
            "hryah.\n",
            "methangengrlig.\n",
            "mderydgelin.\n",
            "mminne.\n",
            "jakelshan.\n",
            "marvelyzimslyannn.\n",
            "shdbergyaghinsthindreth.\n",
            "jhxnthucfoubngycder.\n",
            "juduf.\n",
            "mhshric.\n",
            "mustlydh.\n",
            "hil.\n",
            "sadyannyn.\n",
            "zakhlrenne.\n",
            "jurb.\n",
            "wivevosgynfaddrfennoh.\n",
            "bhgrpeilah.\n",
            "muthya.\n",
            "hmrerlynn.\n"
          ]
        }
      ]
    },
    {
      "cell_type": "markdown",
      "source": [
        "-----------------------------------\n",
        "PYTORCHIFYING THIS SHI\n",
        "-----------------------------------"
      ],
      "metadata": {
        "id": "FTZdfNCQ1nuT"
      }
    },
    {
      "cell_type": "code",
      "source": [
        "#time to train a deeper nueral net\n",
        "\n",
        "#same as pytorch\n",
        "class Linear:\n",
        "\n",
        "  def __init__(self, fan_in, fan_out, bias=True):\n",
        "    self.weight = torch.randn(fan_in, fan_out)\n",
        "    self.bias = torch.zeros(fan_out) if bias else None\n",
        "\n",
        "  def __call__(self, x):\n",
        "    self.out = x @ self.weight\n",
        "    if self.bias is not None:\n",
        "      self.out += self.bias\n",
        "    return self.out\n",
        "\n",
        "  def parameters(self):\n",
        "    return [self.weight] + ([] if self.bias is None else [self.bias])\n",
        "\n",
        "class BatchNorm1d:\n",
        "\n",
        "  def __init__(self, dim, eps=1e-5, momentum=0.1):\n",
        "    self.eps = eps\n",
        "    self.momentum = momentum\n",
        "    self.training = True\n",
        "    #paramters (trained with backprop)\n",
        "    self.gamma = torch.ones(dim)\n",
        "    self.beta = torch.zeros(dim)\n",
        "    #buffers ( runnning count )\n",
        "    self.running_mean = torch.zeros(dim)\n",
        "    self.running_var = torch.ones(dim)\n",
        "\n",
        "\n",
        "  def __call__(self, x):\n",
        "    # calculate the forward pass\n",
        "    if self.training:\n",
        "      xmean = x.mean(0, keepdim=True) # batch mean\n",
        "      xvar = x.var(0, keepdim=True) # batch var\n",
        "    else:\n",
        "      xmean = self.running_mean\n",
        "      xvar = self.running\n",
        "    xhat = (x - xmean) / torch.sqrt(xvar + self.eps) # normalize to unit variance\n",
        "    self.out = self.gamma * xhat + self.beta\n",
        "    # update the buffers\n",
        "    if self.training:\n",
        "      with torch.no_grad():\n",
        "        self.running_mean = (1 - self.momentum) * self.running_mean + self.momentum * xmean\n",
        "        self.running_var = (1 - self.momentum) * self.running_var + self.momentum * xvar\n",
        "    return self.out\n",
        "\n",
        "  def parameters(self):\n",
        "    return [self.gamma, self.beta]\n",
        "\n",
        "class Tanh:\n",
        "  def __call__(self, x):\n",
        "    self.out = torch.tanh(x)\n",
        "    return self.out\n",
        "  def parameters(self):\n",
        "    return []\n",
        "\n",
        "n_embd = 10 # the dimensionality of the character embedding vectors\n",
        "n_hidden = 100 # the number of neurons in the hidden layer of the MLP\n",
        "g = torch.Generator().manual_seed(2147483647) # for reproducibility\n",
        "\n",
        "C = torch.randn((vocab_size, n_embd), generator=g)\n",
        "layers= [\n",
        "    Linear(n_embd * block_size, n_hidden, bias=False), BatchNorm1d(n_hidden), Tanh(),\n",
        "    Linear(n_hidden, n_hidden), BatchNorm1d(n_hidden), Tanh(),\n",
        "    Linear(n_hidden, n_hidden), BatchNorm1d(n_hidden), Tanh(),\n",
        "    Linear(n_hidden, n_hidden), BatchNorm1d(n_hidden), Tanh(),\n",
        "    Linear(n_hidden, n_hidden), BatchNorm1d(n_hidden), Tanh(),\n",
        "    Linear(n_hidden, vocab_size), BatchNorm1d(vocab_size),\n",
        "]\n",
        "\n",
        "with torch.no_grad():\n",
        "  # last layer: make less confident/reduce hockey puck loss\n",
        "  layers[-1].gamma *= 0.1\n",
        "  # all other layer apply gain\n",
        "  for layer in layers[:-1]:\n",
        "    if isinstance(layer, Linear):\n",
        "      layer.weight *= 5/3\n",
        "\n",
        "parameters = [C] + [p for layer in layers for p in layer.parameters()]\n",
        "print(sum(p.nelement() for p in parameters))# number of total parameters\n",
        "for p in parameters:\n",
        "  p.requires_grad = True"
      ],
      "metadata": {
        "colab": {
          "base_uri": "https://localhost:8080/"
        },
        "id": "Cp5UFbLO1tMi",
        "outputId": "b0b94259-d5cf-4165-9382-a93740958fb0"
      },
      "execution_count": 15,
      "outputs": [
        {
          "output_type": "stream",
          "name": "stdout",
          "text": [
            "47451\n"
          ]
        }
      ]
    },
    {
      "cell_type": "code",
      "source": [
        "# same optimization\n",
        "\n",
        "max_steps = 200000\n",
        "batch_size = 32\n",
        "lossi = []\n",
        "\n",
        "for i in range(max_steps):\n",
        "\n",
        "  #construct minibatch\n",
        "  ix = torch.randint(0, Xtr.shape[0], (batch_size,))\n",
        "  Xb, Yb = Xtr[ix], Ytr[ix]\n",
        "\n",
        "  #forward pass\n",
        "  emb = C[Xb] #embed the chars into vectors\n",
        "  x = emb.view(emb.shape[0], -1) # concatenate the vectors\n",
        "  for layer in layers:\n",
        "    x = layer(x)\n",
        "  loss = F.cross_entropy(x, Yb) # loss function\n",
        "\n",
        "  #backward pass\n",
        "  for layer in layers:\n",
        "    layer.out.retain_grad() # we take our the retain grad after debugging\n",
        "  for p in parameters:\n",
        "    p.grad = None\n",
        "  loss.backward()\n",
        "\n",
        "  #update\n",
        "  lr = 0.1 if i < 100000 else 0.01 # step learniing decay rate\n",
        "  for p in parameters:\n",
        "    p.data += -lr * p.grad\n",
        "\n",
        "  #track the stats\n",
        "  if i % 10000 == 0:\n",
        "    print(f'{i:7d}/{max_steps:7d}: {loss.item():.4f}')\n",
        "  lossi.append(loss.log10().item())\n",
        "  break"
      ],
      "metadata": {
        "colab": {
          "base_uri": "https://localhost:8080/"
        },
        "id": "sMVx12C32rB3",
        "outputId": "1d964614-4371-4f72-d318-fc769742477b"
      },
      "execution_count": 16,
      "outputs": [
        {
          "output_type": "stream",
          "name": "stdout",
          "text": [
            "      0/ 200000: 3.3071\n"
          ]
        }
      ]
    },
    {
      "cell_type": "code",
      "source": [
        "# visualize histograms\n",
        "plt.figure(figsize=(20, 5))# width and height of the plot\n",
        "legends = []\n",
        "for i, layer in enumerate(layers[:-1]): #excluding the outside layer\n",
        "  if isinstance(layer, Tanh):\n",
        "    t = layer.out\n",
        "    print('layer %d (%10s): mean %+.2f, std %.2f, saturated: %.2f%%' % (i, layer.__class__.__name__, t.mean(), t.std(), (t.abs() > 0.97).float().mean()*100))\n",
        "    hy,hx = torch.histogram(t, density=True)\n",
        "    plt.plot(hx[:-1].detach(), hy.detach())\n",
        "    legends.append(f'layer {i} ({layer.__class__.__name__})')\n",
        "plt.legend(legends)\n",
        "plt.title('activations distributions')"
      ],
      "metadata": {
        "colab": {
          "base_uri": "https://localhost:8080/",
          "height": 546
        },
        "id": "dS4X7Scxard_",
        "outputId": "9e91cdc8-46c3-459b-8221-5e7aaa150276"
      },
      "execution_count": 14,
      "outputs": [
        {
          "output_type": "stream",
          "name": "stdout",
          "text": [
            "layer 1 (      Tanh): mean -0.01, std 0.95, saturated: 80.97%\n",
            "layer 3 (      Tanh): mean +0.03, std 0.97, saturated: 89.16%\n",
            "layer 5 (      Tanh): mean +0.00, std 0.97, saturated: 89.22%\n",
            "layer 7 (      Tanh): mean -0.01, std 0.98, saturated: 89.81%\n",
            "layer 9 (      Tanh): mean -0.00, std 0.97, saturated: 88.94%\n"
          ]
        },
        {
          "output_type": "execute_result",
          "data": {
            "text/plain": [
              "Text(0.5, 1.0, 'activations distributions')"
            ]
          },
          "metadata": {},
          "execution_count": 14
        },
        {
          "output_type": "display_data",
          "data": {
            "text/plain": [
              "<Figure size 2000x500 with 1 Axes>"
            ],
            "image/png": "[encoded data removed]"
          },
          "metadata": {}
        }
      ]
    }
  ]
}